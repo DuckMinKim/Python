{
 "cells": [
  {
   "cell_type": "markdown",
   "metadata": {},
   "source": [
    "## 30102 김덕민"
   ]
  },
  {
   "cell_type": "markdown",
   "metadata": {},
   "source": [
    "### 업 다운 게임(기회 추가버전)"
   ]
  },
  {
   "cell_type": "code",
   "execution_count": 3,
   "metadata": {},
   "outputs": [],
   "source": [
    "import random as r"
   ]
  },
  {
   "cell_type": "code",
   "execution_count": 6,
   "metadata": {},
   "outputs": [
    {
     "name": "stdout",
     "output_type": "stream",
     "text": [
      "0 이상의 범위를 입력해주세요 : 100\n",
      "\n",
      "\n",
      "---범위는 0부터 100 까지 입니다! 행운을 빕니다! ---\n",
      "\n",
      "\n",
      "숫자를 입력해주세요 : 50\n",
      "\n",
      "DOWN ! \n",
      "남은 기회: 4번\n",
      "\n",
      "숫자를 입력해주세요 : 30\n",
      "\n",
      "정답입니다! 답은 30 입니다\n"
     ]
    }
   ],
   "source": [
    "chance = 5\n",
    "ranges = int(input(\"0 이상의 범위를 입력해주세요 : \"))\n",
    "computer = r.randrange(0,ranges+1)\n",
    "print(\"\\n\\n---범위는 0부터 %d 까지 입니다! 행운을 빕니다! ---\\n\\n\"%ranges)\n",
    "while True:\n",
    "    user = int(input(\"숫자를 입력해주세요 : \"))\n",
    "    if user > computer:\n",
    "        chance -= 1\n",
    "        print(\"\\nDOWN ! \\n남은 기회: %d번\\n\"%chance)\n",
    "    if user < computer:\n",
    "        chance -= 1\n",
    "        print(\"\\nUP ! \\n남은 기회: %d번\\n\"%chance)\n",
    "    \n",
    "    if user == computer or chance <= 0:\n",
    "        break;\n",
    "        \n",
    "if chance >0:\n",
    "    print(\"\\n정답입니다! 답은 %d 입니다\"%computer)\n",
    "else:\n",
    "    print(\"\\n도전 실패입니다! 답은 %d 였습니다! 다음기회에 다시 도전해주세요!\"%computer)\n",
    "    "
   ]
  }
 ],
 "metadata": {
  "kernelspec": {
   "display_name": "Python 3",
   "language": "python",
   "name": "python3"
  },
  "language_info": {
   "codemirror_mode": {
    "name": "ipython",
    "version": 3
   },
   "file_extension": ".py",
   "mimetype": "text/x-python",
   "name": "python",
   "nbconvert_exporter": "python",
   "pygments_lexer": "ipython3",
   "version": "3.7.4"
  }
 },
 "nbformat": 4,
 "nbformat_minor": 2
}
