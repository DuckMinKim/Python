{
  "nbformat": 4,
  "nbformat_minor": 0,
  "metadata": {
    "colab": {
      "name": "2일차_2교시_input.ipynb",
      "provenance": [],
      "collapsed_sections": [],
      "authorship_tag": "ABX9TyP3BUcvPf5EOwC2iymiO14/",
      "include_colab_link": true
    },
    "kernelspec": {
      "name": "python3",
      "display_name": "Python 3"
    }
  },
  "cells": [
    {
      "cell_type": "markdown",
      "metadata": {
        "id": "view-in-github",
        "colab_type": "text"
      },
      "source": [
        "<a href=\"https://colab.research.google.com/github/DuckMinKim/Python/blob/master/2%EC%9D%BC%EC%B0%A8_2%EA%B5%90%EC%8B%9C_input.ipynb\" target=\"_parent\"><img src=\"https://colab.research.google.com/assets/colab-badge.svg\" alt=\"Open In Colab\"/></a>"
      ]
    },
    {
      "cell_type": "code",
      "metadata": {
        "id": "zmGnDMcsWgom",
        "colab_type": "code",
        "colab": {
          "base_uri": "https://localhost:8080/",
          "height": 53
        },
        "outputId": "b22168de-98fd-4a72-c9cd-00f7eb16e3cb"
      },
      "source": [
        "a =input('당신의 이름을 입력하세요 >>>')\n",
        "a"
      ],
      "execution_count": 13,
      "outputs": [
        {
          "output_type": "stream",
          "text": [
            "당신의 이름을 입력하세요 >>>더덕\n"
          ],
          "name": "stdout"
        },
        {
          "output_type": "execute_result",
          "data": {
            "text/plain": [
              "'더덕'"
            ]
          },
          "metadata": {
            "tags": []
          },
          "execution_count": 13
        }
      ]
    },
    {
      "cell_type": "code",
      "metadata": {
        "id": "d7GTWDstEHeO",
        "colab_type": "code",
        "colab": {
          "base_uri": "https://localhost:8080/",
          "height": 53
        },
        "outputId": "d7ed2834-9a74-4390-f5c8-4f4fd539ee43"
      },
      "source": [
        "b = input('당신의 나이 >>>')\n",
        "b"
      ],
      "execution_count": 6,
      "outputs": [
        {
          "output_type": "stream",
          "text": [
            "당신의 나이 >>>19\n"
          ],
          "name": "stdout"
        },
        {
          "output_type": "execute_result",
          "data": {
            "text/plain": [
              "'19'"
            ]
          },
          "metadata": {
            "tags": []
          },
          "execution_count": 6
        }
      ]
    },
    {
      "cell_type": "code",
      "metadata": {
        "id": "c0iq6yl2EQ7d",
        "colab_type": "code",
        "colab": {
          "base_uri": "https://localhost:8080/",
          "height": 35
        },
        "outputId": "a9a5c79b-f2f7-4d1a-e13d-81d1ba674f9b"
      },
      "source": [
        "type(b)"
      ],
      "execution_count": 8,
      "outputs": [
        {
          "output_type": "execute_result",
          "data": {
            "text/plain": [
              "str"
            ]
          },
          "metadata": {
            "tags": []
          },
          "execution_count": 8
        }
      ]
    },
    {
      "cell_type": "code",
      "metadata": {
        "id": "K_65oDZhEUEU",
        "colab_type": "code",
        "colab": {
          "base_uri": "https://localhost:8080/",
          "height": 35
        },
        "outputId": "45cba327-fb6b-4ce9-d5ae-2028f50dfb06"
      },
      "source": [
        "int(b)"
      ],
      "execution_count": 10,
      "outputs": [
        {
          "output_type": "execute_result",
          "data": {
            "text/plain": [
              "19"
            ]
          },
          "metadata": {
            "tags": []
          },
          "execution_count": 10
        }
      ]
    },
    {
      "cell_type": "code",
      "metadata": {
        "id": "Za3SnWB8Ekh8",
        "colab_type": "code",
        "colab": {
          "base_uri": "https://localhost:8080/",
          "height": 35
        },
        "outputId": "7c25aaa1-a8df-427c-a9de-ea1c95c3d3f0"
      },
      "source": [
        "c =int(b)\n",
        "c, type(c)"
      ],
      "execution_count": 12,
      "outputs": [
        {
          "output_type": "execute_result",
          "data": {
            "text/plain": [
              "(19, int)"
            ]
          },
          "metadata": {
            "tags": []
          },
          "execution_count": 12
        }
      ]
    },
    {
      "cell_type": "code",
      "metadata": {
        "id": "HlvpwNVlEzgM",
        "colab_type": "code",
        "colab": {
          "base_uri": "https://localhost:8080/",
          "height": 71
        },
        "outputId": "dc36e32c-bcd9-419b-a5d5-9255a55c829b"
      },
      "source": [
        "#year = input('출생년도를 입력하세요 >>>')\n",
        "#int(year)\n",
        "year = int(input('출생년도를 입력하세요 >>>'))\n",
        "age = 2020-year+1\n",
        "print('당신은 ',year,'년도에 태어났습니다')\n",
        "print('당신의 나이는 ',age,'살입니다')"
      ],
      "execution_count": 23,
      "outputs": [
        {
          "output_type": "stream",
          "text": [
            "출생년도를 입력하세요 >>>2002\n",
            "당신은  2002 년도에 태어났습니다\n",
            "당신의 나이는  19 살입니다\n"
          ],
          "name": "stdout"
        }
      ]
    },
    {
      "cell_type": "markdown",
      "metadata": {
        "id": "7QZ4T2V4GZD0",
        "colab_type": "text"
      },
      "source": [
        "**Format**\n",
        "서식지정자"
      ]
    },
    {
      "cell_type": "code",
      "metadata": {
        "id": "oNdgniiAGSNL",
        "colab_type": "code",
        "colab": {
          "base_uri": "https://localhost:8080/",
          "height": 35
        },
        "outputId": "7e37eef8-e02c-48ae-9abd-7636b62f3ff1"
      },
      "source": [
        "s = 'a is {}'\n",
        "s.format('apple')"
      ],
      "execution_count": 32,
      "outputs": [
        {
          "output_type": "execute_result",
          "data": {
            "text/plain": [
              "'a is apple'"
            ]
          },
          "metadata": {
            "tags": []
          },
          "execution_count": 32
        }
      ]
    },
    {
      "cell_type": "code",
      "metadata": {
        "id": "qdlul_HEG58c",
        "colab_type": "code",
        "colab": {
          "base_uri": "https://localhost:8080/",
          "height": 71
        },
        "outputId": "9900d718-904a-44b6-fc60-65d5864e2542"
      },
      "source": [
        "a = '%s %d 개 가격은 %.2f$'\n",
        "b = a%('햄버거',2,4.0*2)\n",
        "print(a)\n",
        "print(b)\n",
        "print('%s %d 개 가격은 %.2f$'%('햄버거',2,4.0*2))"
      ],
      "execution_count": 44,
      "outputs": [
        {
          "output_type": "stream",
          "text": [
            "%s %d 개 가격은 %.2f$\n",
            "햄버거 2 개 가격은 8.00$\n",
            "햄버거 2 개 가격은 8.00$\n"
          ],
          "name": "stdout"
        }
      ]
    },
    {
      "cell_type": "code",
      "metadata": {
        "id": "SJOlQfO7HpRl",
        "colab_type": "code",
        "colab": {
          "base_uri": "https://localhost:8080/",
          "height": 35
        },
        "outputId": "489205d9-7605-43be-8eb7-751ce0dcbea9"
      },
      "source": [
        "# 치킨 2마리 가격 4만원\n",
        "print('%s %d마리 가격은 %d만원'%('치킨',2,4))"
      ],
      "execution_count": 45,
      "outputs": [
        {
          "output_type": "stream",
          "text": [
            "치킨 2마리 가격은 4만원\n"
          ],
          "name": "stdout"
        }
      ]
    }
  ]
}