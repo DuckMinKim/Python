{
  "nbformat": 4,
  "nbformat_minor": 0,
  "metadata": {
    "colab": {
      "name": "4일차_1교시_For문.ipynb",
      "provenance": [],
      "collapsed_sections": [],
      "authorship_tag": "ABX9TyNZ7pGZkHADghVD/GHf3YOq",
      "include_colab_link": true
    },
    "kernelspec": {
      "name": "python3",
      "display_name": "Python 3"
    }
  },
  "cells": [
    {
      "cell_type": "markdown",
      "metadata": {
        "id": "view-in-github",
        "colab_type": "text"
      },
      "source": [
        "<a href=\"https://colab.research.google.com/github/DuckMinKim/Python/blob/master/4%EC%9D%BC%EC%B0%A8_1%EA%B5%90%EC%8B%9C_For%EB%AC%B8.ipynb\" target=\"_parent\"><img src=\"https://colab.research.google.com/assets/colab-badge.svg\" alt=\"Open In Colab\"/></a>"
      ]
    },
    {
      "cell_type": "markdown",
      "metadata": {
        "id": "_oyQ_QdL7lCW",
        "colab_type": "text"
      },
      "source": [
        "**[학습목표]**\n",
        "\n",
        "1.   List, Range\n",
        "2.   For문\n",
        "---\n",
        "\n",
        "\n",
        "\n"
      ]
    },
    {
      "cell_type": "code",
      "metadata": {
        "id": "-FMKIApe8Ui3",
        "colab_type": "code",
        "outputId": "76d900d1-5533-4006-8f04-0f564b60a6c3",
        "colab": {
          "base_uri": "https://localhost:8080/",
          "height": 35
        }
      },
      "source": [
        "range(5)"
      ],
      "execution_count": 0,
      "outputs": [
        {
          "output_type": "execute_result",
          "data": {
            "text/plain": [
              "range(0, 5)"
            ]
          },
          "metadata": {
            "tags": []
          },
          "execution_count": 2
        }
      ]
    },
    {
      "cell_type": "code",
      "metadata": {
        "id": "RYZGa7OX8W9x",
        "colab_type": "code",
        "outputId": "89bc4730-3921-4a35-b4d7-ae01370d61d6",
        "colab": {
          "base_uri": "https://localhost:8080/",
          "height": 35
        }
      },
      "source": [
        "a = list(range(10,0,-2))\n",
        "a"
      ],
      "execution_count": 0,
      "outputs": [
        {
          "output_type": "execute_result",
          "data": {
            "text/plain": [
              "[10, 8, 6, 4, 2]"
            ]
          },
          "metadata": {
            "tags": []
          },
          "execution_count": 9
        }
      ]
    },
    {
      "cell_type": "code",
      "metadata": {
        "id": "Enqw5yqu8s_h",
        "colab_type": "code",
        "outputId": "6b61c24c-7cc4-4dc4-cee3-c838444b7740",
        "colab": {
          "base_uri": "https://localhost:8080/",
          "height": 35
        }
      },
      "source": [
        "type(a)"
      ],
      "execution_count": 0,
      "outputs": [
        {
          "output_type": "execute_result",
          "data": {
            "text/plain": [
              "list"
            ]
          },
          "metadata": {
            "tags": []
          },
          "execution_count": 11
        }
      ]
    },
    {
      "cell_type": "code",
      "metadata": {
        "id": "rZPgKGo_8u7J",
        "colab_type": "code",
        "outputId": "5909eb7b-94ba-4ae4-94ec-95adf1bfbb57",
        "colab": {
          "base_uri": "https://localhost:8080/",
          "height": 35
        }
      },
      "source": [
        "for i in range(1,10):\n",
        "  print(i,end=' ')"
      ],
      "execution_count": 0,
      "outputs": [
        {
          "output_type": "stream",
          "text": [
            "1 2 3 4 5 6 7 8 9 "
          ],
          "name": "stdout"
        }
      ]
    },
    {
      "cell_type": "markdown",
      "metadata": {
        "id": "4qdcIT1n9NiW",
        "colab_type": "text"
      },
      "source": [
        "**[문제1]**\n",
        "for문을 이용해서 10부터 0까지 -2씩 출력"
      ]
    },
    {
      "cell_type": "code",
      "metadata": {
        "id": "squrClIA9X11",
        "colab_type": "code",
        "outputId": "ec9b298b-d608-4fc6-8157-1a4c276f28e5",
        "colab": {
          "base_uri": "https://localhost:8080/",
          "height": 35
        }
      },
      "source": [
        "for i in range(10,-1,-2):\n",
        "  print(i, end=' ')"
      ],
      "execution_count": 0,
      "outputs": [
        {
          "output_type": "stream",
          "text": [
            "10 8 6 4 2 0 "
          ],
          "name": "stdout"
        }
      ]
    },
    {
      "cell_type": "code",
      "metadata": {
        "id": "YtvwNJP3-BRR",
        "colab_type": "code",
        "outputId": "03cf798f-ed5e-4376-c2ff-2d29e108c8e9",
        "colab": {
          "base_uri": "https://localhost:8080/",
          "height": 107
        }
      },
      "source": [
        "a = [1.3,2.1,4.5,5,5.1]\n",
        "for i in a:\n",
        "  print(a)"
      ],
      "execution_count": 0,
      "outputs": [
        {
          "output_type": "stream",
          "text": [
            "[1.3, 2.1, 4.5, 5, 5.1]\n",
            "[1.3, 2.1, 4.5, 5, 5.1]\n",
            "[1.3, 2.1, 4.5, 5, 5.1]\n",
            "[1.3, 2.1, 4.5, 5, 5.1]\n",
            "[1.3, 2.1, 4.5, 5, 5.1]\n"
          ],
          "name": "stdout"
        }
      ]
    },
    {
      "cell_type": "code",
      "metadata": {
        "id": "kTPjH3Ir-Tgd",
        "colab_type": "code",
        "outputId": "7f6e3e3b-f5c3-4dae-97c0-917dbe073fab",
        "colab": {
          "base_uri": "https://localhost:8080/",
          "height": 35
        }
      },
      "source": [
        "a[0]-a[4]"
      ],
      "execution_count": 0,
      "outputs": [
        {
          "output_type": "execute_result",
          "data": {
            "text/plain": [
              "-3.8"
            ]
          },
          "metadata": {
            "tags": []
          },
          "execution_count": 26
        }
      ]
    },
    {
      "cell_type": "code",
      "metadata": {
        "id": "nkWsyz7d-eT2",
        "colab_type": "code",
        "outputId": "e8cc741b-b967-4d2b-faad-b695688a0aa6",
        "colab": {
          "base_uri": "https://localhost:8080/",
          "height": 107
        }
      },
      "source": [
        "a = [1.3,2.1,4.5,5,5.1]\n",
        "for i in range(len(a)):\n",
        "  print(a[i])"
      ],
      "execution_count": 0,
      "outputs": [
        {
          "output_type": "stream",
          "text": [
            "1.3\n",
            "2.1\n",
            "4.5\n",
            "5\n",
            "5.1\n"
          ],
          "name": "stdout"
        }
      ]
    },
    {
      "cell_type": "markdown",
      "metadata": {
        "id": "gmEtvMX1_TfK",
        "colab_type": "text"
      },
      "source": [
        "**[문제2]**\n",
        "Hello Python 1부터\n",
        "Hello Python 10 출력"
      ]
    },
    {
      "cell_type": "code",
      "metadata": {
        "id": "10cH4ej6_T0w",
        "colab_type": "code",
        "outputId": "60fff911-955a-4792-8346-9fcd2df39075",
        "colab": {
          "base_uri": "https://localhost:8080/",
          "height": 197
        }
      },
      "source": [
        "for i in range(1,11):\n",
        "  print('Hello Python '+str(i))"
      ],
      "execution_count": 0,
      "outputs": [
        {
          "output_type": "stream",
          "text": [
            "Hello Python 1\n",
            "Hello Python 2\n",
            "Hello Python 3\n",
            "Hello Python 4\n",
            "Hello Python 5\n",
            "Hello Python 6\n",
            "Hello Python 7\n",
            "Hello Python 8\n",
            "Hello Python 9\n",
            "Hello Python 10\n"
          ],
          "name": "stdout"
        }
      ]
    },
    {
      "cell_type": "code",
      "metadata": {
        "id": "WjDaJ00K_qiz",
        "colab_type": "code",
        "outputId": "ab2ad0c5-e883-42f3-9232-ecf04631b5e2",
        "colab": {
          "base_uri": "https://localhost:8080/",
          "height": 71
        }
      },
      "source": [
        "count = input('몇번 반복? : ')\n",
        "for i in range(1,int(count)+1):\n",
        "  print('좋아',i)"
      ],
      "execution_count": 0,
      "outputs": [
        {
          "output_type": "stream",
          "text": [
            "몇번 반복? : 2\n",
            "좋아 1\n",
            "좋아 2\n"
          ],
          "name": "stdout"
        }
      ]
    },
    {
      "cell_type": "markdown",
      "metadata": {
        "id": "X36-aoBZCGCf",
        "colab_type": "text"
      },
      "source": [
        "**[문제3]**\n",
        "숫자 5개를 입력 받아 합계 구하기"
      ]
    },
    {
      "cell_type": "code",
      "metadata": {
        "id": "duMAbBPIBCDt",
        "colab_type": "code",
        "outputId": "f37eda51-978a-4d65-bb0a-2742428c4578",
        "colab": {
          "base_uri": "https://localhost:8080/",
          "height": 89
        }
      },
      "source": [
        "a = list(map(int, input('숫자 2개 입력 : ').split()))\n",
        "sum = 0\n",
        "for i in range(0,len(a)):\n",
        "  sum += a[i]\n",
        "  print(a[i], end=' ')\n",
        "print('\\n합계', sum,'\\n평균', sum/len(a))"
      ],
      "execution_count": 0,
      "outputs": [
        {
          "output_type": "stream",
          "text": [
            "숫자 2개 입력 : 1 2 3\n",
            "1 2 3 \n",
            "합계 6 \n",
            "평균 2.0\n"
          ],
          "name": "stdout"
        }
      ]
    }
  ]
}