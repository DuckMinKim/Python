{
  "nbformat": 4,
  "nbformat_minor": 0,
  "metadata": {
    "colab": {
      "name": "4일차_2교시_3교시_이중 for문.ipynb",
      "provenance": [],
      "authorship_tag": "ABX9TyPAbLarJjFiiqPZklZ3H/b3",
      "include_colab_link": true
    },
    "kernelspec": {
      "name": "python3",
      "display_name": "Python 3"
    }
  },
  "cells": [
    {
      "cell_type": "markdown",
      "metadata": {
        "id": "view-in-github",
        "colab_type": "text"
      },
      "source": [
        "<a href=\"https://colab.research.google.com/github/DuckMinKim/Python/blob/master/4%EC%9D%BC%EC%B0%A8_2%EA%B5%90%EC%8B%9C_3%EA%B5%90%EC%8B%9C_%EC%9D%B4%EC%A4%91_for%EB%AC%B8.ipynb\" target=\"_parent\"><img src=\"https://colab.research.google.com/assets/colab-badge.svg\" alt=\"Open In Colab\"/></a>"
      ]
    },
    {
      "cell_type": "markdown",
      "metadata": {
        "id": "fnFGMM_nIWkg",
        "colab_type": "text"
      },
      "source": [
        "**이중 For문**"
      ]
    },
    {
      "cell_type": "code",
      "metadata": {
        "id": "4lVKWYo9IbGc",
        "colab_type": "code",
        "outputId": "e4b4f944-135c-4edf-c8fb-57d8ba093958",
        "colab": {
          "base_uri": "https://localhost:8080/",
          "height": 197
        }
      },
      "source": [
        "for i in range(1,6):\n",
        "  for j in range(1,6):\n",
        "    print(j,end=' ')\n",
        "  print('\\n')"
      ],
      "execution_count": 0,
      "outputs": [
        {
          "output_type": "stream",
          "text": [
            "1 2 3 4 5 \n",
            "\n",
            "1 2 3 4 5 \n",
            "\n",
            "1 2 3 4 5 \n",
            "\n",
            "1 2 3 4 5 \n",
            "\n",
            "1 2 3 4 5 \n",
            "\n"
          ],
          "name": "stdout"
        }
      ]
    },
    {
      "cell_type": "markdown",
      "metadata": {
        "id": "15ahxjWKI6ov",
        "colab_type": "text"
      },
      "source": [
        "**문제[1]**\n",
        "\n",
        "\n",
        "```\n",
        "5 4 3 2 1\n",
        "5 4 3 2 1\n",
        "5 4 3 2 1\n",
        "5 4 3 2 1\n",
        "5 4 3 2 1\n",
        "```\n",
        "\n"
      ]
    },
    {
      "cell_type": "code",
      "metadata": {
        "id": "oZROSWNQJMWg",
        "colab_type": "code",
        "outputId": "fa3656c3-5af0-4e1a-8299-89b0538bc005",
        "colab": {
          "base_uri": "https://localhost:8080/",
          "height": 197
        }
      },
      "source": [
        "for i in range(5,0,-1):\n",
        "  for j in range(5,0,-1):\n",
        "    print(j,end=' ')\n",
        "  print('\\n')"
      ],
      "execution_count": 0,
      "outputs": [
        {
          "output_type": "stream",
          "text": [
            "5 4 3 2 1 \n",
            "\n",
            "5 4 3 2 1 \n",
            "\n",
            "5 4 3 2 1 \n",
            "\n",
            "5 4 3 2 1 \n",
            "\n",
            "5 4 3 2 1 \n",
            "\n"
          ],
          "name": "stdout"
        }
      ]
    },
    {
      "cell_type": "markdown",
      "metadata": {
        "id": "dgRqwF-kJiDV",
        "colab_type": "text"
      },
      "source": [
        "**[문제2]**\n",
        "\n",
        "\n",
        "```\n",
        "* * * * *\n",
        "* * * *\n",
        "* * *\n",
        "* *\n",
        "*\n",
        "```"
      ]
    },
    {
      "cell_type": "code",
      "metadata": {
        "id": "itq3yAdsJrcL",
        "colab_type": "code",
        "outputId": "649d82bf-ab26-4c8e-c4ef-7bd2d49b3e3d",
        "colab": {
          "base_uri": "https://localhost:8080/",
          "height": 197
        }
      },
      "source": [
        "for i in range(5,0,-1):\n",
        "  for j in range(0,i):\n",
        "    print('*',end=' ')\n",
        "  print('\\n')"
      ],
      "execution_count": 0,
      "outputs": [
        {
          "output_type": "stream",
          "text": [
            "* * * * * \n",
            "\n",
            "* * * * \n",
            "\n",
            "* * * \n",
            "\n",
            "* * \n",
            "\n",
            "* \n",
            "\n"
          ],
          "name": "stdout"
        }
      ]
    },
    {
      "cell_type": "markdown",
      "metadata": {
        "id": "Qlm3sA0aKAXi",
        "colab_type": "text"
      },
      "source": [
        "**[문제3]**\n",
        "구구단\n"
      ]
    },
    {
      "cell_type": "code",
      "metadata": {
        "id": "I4l7VjhVJ2xa",
        "colab_type": "code",
        "outputId": "927833d0-5960-4651-8421-8d51b58f3bb2",
        "colab": {
          "base_uri": "https://localhost:8080/",
          "height": 341
        }
      },
      "source": [
        "for i in range(1,10):\n",
        "  for j in range(2,10):\n",
        "    print('%d * %d = %d'%(j,i,i*j),end='      ')\n",
        "  print('\\n')"
      ],
      "execution_count": 0,
      "outputs": [
        {
          "output_type": "stream",
          "text": [
            "2 * 1 = 2      3 * 1 = 3      4 * 1 = 4      5 * 1 = 5      6 * 1 = 6      7 * 1 = 7      8 * 1 = 8      9 * 1 = 9      \n",
            "\n",
            "2 * 2 = 4      3 * 2 = 6      4 * 2 = 8      5 * 2 = 10      6 * 2 = 12      7 * 2 = 14      8 * 2 = 16      9 * 2 = 18      \n",
            "\n",
            "2 * 3 = 6      3 * 3 = 9      4 * 3 = 12      5 * 3 = 15      6 * 3 = 18      7 * 3 = 21      8 * 3 = 24      9 * 3 = 27      \n",
            "\n",
            "2 * 4 = 8      3 * 4 = 12      4 * 4 = 16      5 * 4 = 20      6 * 4 = 24      7 * 4 = 28      8 * 4 = 32      9 * 4 = 36      \n",
            "\n",
            "2 * 5 = 10      3 * 5 = 15      4 * 5 = 20      5 * 5 = 25      6 * 5 = 30      7 * 5 = 35      8 * 5 = 40      9 * 5 = 45      \n",
            "\n",
            "2 * 6 = 12      3 * 6 = 18      4 * 6 = 24      5 * 6 = 30      6 * 6 = 36      7 * 6 = 42      8 * 6 = 48      9 * 6 = 54      \n",
            "\n",
            "2 * 7 = 14      3 * 7 = 21      4 * 7 = 28      5 * 7 = 35      6 * 7 = 42      7 * 7 = 49      8 * 7 = 56      9 * 7 = 63      \n",
            "\n",
            "2 * 8 = 16      3 * 8 = 24      4 * 8 = 32      5 * 8 = 40      6 * 8 = 48      7 * 8 = 56      8 * 8 = 64      9 * 8 = 72      \n",
            "\n",
            "2 * 9 = 18      3 * 9 = 27      4 * 9 = 36      5 * 9 = 45      6 * 9 = 54      7 * 9 = 63      8 * 9 = 72      9 * 9 = 81      \n",
            "\n"
          ],
          "name": "stdout"
        }
      ]
    },
    {
      "cell_type": "code",
      "metadata": {
        "id": "moopeS9qOZLe",
        "colab_type": "code",
        "outputId": "a4534532-37a6-44f1-d56d-8648537c1750",
        "colab": {
          "base_uri": "https://localhost:8080/",
          "height": 35
        }
      },
      "source": [
        "for i in ['치킨','햄버거','탕수육','떡볶이']:\n",
        "  print(i,end='/')"
      ],
      "execution_count": 0,
      "outputs": [
        {
          "output_type": "stream",
          "text": [
            "치킨/햄버거/탕수육/떡볶이/"
          ],
          "name": "stdout"
        }
      ]
    },
    {
      "cell_type": "code",
      "metadata": {
        "id": "J7gDRQyiOu25",
        "colab_type": "code",
        "outputId": "63d4d079-9b84-4e1d-8548-2f669f276112",
        "colab": {
          "base_uri": "https://localhost:8080/",
          "height": 35
        }
      },
      "source": [
        "a= list(range(1,30,3))\n",
        "a"
      ],
      "execution_count": 0,
      "outputs": [
        {
          "output_type": "execute_result",
          "data": {
            "text/plain": [
              "[1, 4, 7, 10, 13, 16, 19, 22, 25, 28]"
            ]
          },
          "metadata": {
            "tags": []
          },
          "execution_count": 51
        }
      ]
    },
    {
      "cell_type": "code",
      "metadata": {
        "id": "XmoKrt-9O5yl",
        "colab_type": "code",
        "outputId": "a7edc13e-8bc7-4042-cc9c-b10a10c70984",
        "colab": {
          "base_uri": "https://localhost:8080/",
          "height": 35
        }
      },
      "source": [
        "sum(a)/len(a)"
      ],
      "execution_count": 0,
      "outputs": [
        {
          "output_type": "execute_result",
          "data": {
            "text/plain": [
              "14.5"
            ]
          },
          "metadata": {
            "tags": []
          },
          "execution_count": 52
        }
      ]
    },
    {
      "cell_type": "code",
      "metadata": {
        "id": "GorYYA3XPBM2",
        "colab_type": "code",
        "outputId": "095bb3f2-ad3d-4132-f7fc-d2d72e715d6a",
        "colab": {
          "base_uri": "https://localhost:8080/",
          "height": 35
        }
      },
      "source": [
        "max(a)"
      ],
      "execution_count": 0,
      "outputs": [
        {
          "output_type": "execute_result",
          "data": {
            "text/plain": [
              "28"
            ]
          },
          "metadata": {
            "tags": []
          },
          "execution_count": 54
        }
      ]
    },
    {
      "cell_type": "code",
      "metadata": {
        "id": "_D8Zj9EFPXqx",
        "colab_type": "code",
        "outputId": "cfba2d97-0029-40db-afd8-cf27a5954381",
        "colab": {
          "base_uri": "https://localhost:8080/",
          "height": 35
        }
      },
      "source": [
        "min(a)"
      ],
      "execution_count": 0,
      "outputs": [
        {
          "output_type": "execute_result",
          "data": {
            "text/plain": [
              "1"
            ]
          },
          "metadata": {
            "tags": []
          },
          "execution_count": 55
        }
      ]
    }
  ]
}