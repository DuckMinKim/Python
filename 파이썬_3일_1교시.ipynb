{
  "nbformat": 4,
  "nbformat_minor": 0,
  "metadata": {
    "colab": {
      "name": "파이썬_3일_1교시.ipynb",
      "provenance": [],
      "collapsed_sections": [],
      "authorship_tag": "ABX9TyMS5UsyNJ0+Yb7Gv4sM8Yv5",
      "include_colab_link": true
    },
    "kernelspec": {
      "name": "python3",
      "display_name": "Python 3"
    }
  },
  "cells": [
    {
      "cell_type": "markdown",
      "metadata": {
        "id": "view-in-github",
        "colab_type": "text"
      },
      "source": [
        "<a href=\"https://colab.research.google.com/github/DuckMinKim/Python/blob/master/%ED%8C%8C%EC%9D%B4%EC%8D%AC_3%EC%9D%BC_1%EA%B5%90%EC%8B%9C.ipynb\" target=\"_parent\"><img src=\"https://colab.research.google.com/assets/colab-badge.svg\" alt=\"Open In Colab\"/></a>"
      ]
    },
    {
      "cell_type": "markdown",
      "metadata": {
        "id": "zSyIKMYy8MH4",
        "colab_type": "text"
      },
      "source": [
        "# **Data_Type**"
      ]
    },
    {
      "cell_type": "markdown",
      "metadata": {
        "id": "zB2BC0-i4AjZ",
        "colab_type": "text"
      },
      "source": [
        "**Data Type_Dictionary**\n",
        "\n",
        "\n",
        "```\n",
        "# dic = {1:'고기',2:'버거',3:3003}\n",
        "```"
      ]
    },
    {
      "cell_type": "code",
      "metadata": {
        "id": "HSCLuFdL4_Oq",
        "colab_type": "code",
        "colab": {}
      },
      "source": [
        "dic = {'아잉':'고기',1:'야채','숫자':1234}"
      ],
      "execution_count": 0,
      "outputs": []
    },
    {
      "cell_type": "code",
      "metadata": {
        "id": "YXifxkLA5SNU",
        "colab_type": "code",
        "colab": {
          "base_uri": "https://localhost:8080/",
          "height": 35
        },
        "outputId": "02fd352b-c7d4-4d71-8f9c-44aa840d7bd2"
      },
      "source": [
        "dic['아잉'],dic[1],dic['숫자']"
      ],
      "execution_count": 16,
      "outputs": [
        {
          "output_type": "execute_result",
          "data": {
            "text/plain": [
              "('고기', '야채', 1234)"
            ]
          },
          "metadata": {
            "tags": []
          },
          "execution_count": 16
        }
      ]
    },
    {
      "cell_type": "code",
      "metadata": {
        "id": "Sh636rEA7YxT",
        "colab_type": "code",
        "colab": {
          "base_uri": "https://localhost:8080/",
          "height": 35
        },
        "outputId": "67d99a3e-6f07-4687-a667-e9634ba62358"
      },
      "source": [
        "dic.get('아잉')"
      ],
      "execution_count": 17,
      "outputs": [
        {
          "output_type": "execute_result",
          "data": {
            "text/plain": [
              "'고기'"
            ]
          },
          "metadata": {
            "tags": []
          },
          "execution_count": 17
        }
      ]
    },
    {
      "cell_type": "code",
      "metadata": {
        "id": "3yj7HosD7s7n",
        "colab_type": "code",
        "colab": {
          "base_uri": "https://localhost:8080/",
          "height": 35
        },
        "outputId": "81dcbf75-c439-4e38-909d-c930ce4b1da3"
      },
      "source": [
        "dic.values()"
      ],
      "execution_count": 20,
      "outputs": [
        {
          "output_type": "execute_result",
          "data": {
            "text/plain": [
              "dict_values(['고기', '야채', 1234])"
            ]
          },
          "metadata": {
            "tags": []
          },
          "execution_count": 20
        }
      ]
    },
    {
      "cell_type": "code",
      "metadata": {
        "id": "JnCGF832745E",
        "colab_type": "code",
        "colab": {
          "base_uri": "https://localhost:8080/",
          "height": 35
        },
        "outputId": "b5968344-44b1-4670-962c-ad73f771aec2"
      },
      "source": [
        "dic.items()"
      ],
      "execution_count": 22,
      "outputs": [
        {
          "output_type": "execute_result",
          "data": {
            "text/plain": [
              "dict_items([('아잉', '고기'), (1, '야채'), ('숫자', 1234)])"
            ]
          },
          "metadata": {
            "tags": []
          },
          "execution_count": 22
        }
      ]
    },
    {
      "cell_type": "code",
      "metadata": {
        "id": "ZZCDUsAt787D",
        "colab_type": "code",
        "colab": {
          "base_uri": "https://localhost:8080/",
          "height": 35
        },
        "outputId": "b4d53672-31c5-4c59-a9d5-1587f5ca5390"
      },
      "source": [
        "dic.keys()"
      ],
      "execution_count": 23,
      "outputs": [
        {
          "output_type": "execute_result",
          "data": {
            "text/plain": [
              "dict_keys(['아잉', 1, '숫자'])"
            ]
          },
          "metadata": {
            "tags": []
          },
          "execution_count": 23
        }
      ]
    },
    {
      "cell_type": "code",
      "metadata": {
        "id": "k-ZrNGqM6KPE",
        "colab_type": "code",
        "colab": {
          "base_uri": "https://localhost:8080/",
          "height": 35
        },
        "outputId": "dacf1cc8-a093-4745-b019-b3a1adc5bd71"
      },
      "source": [
        "a ='인천정보산업고등학교'\n",
        "type(a)\n",
        "type(dic)"
      ],
      "execution_count": 8,
      "outputs": [
        {
          "output_type": "execute_result",
          "data": {
            "text/plain": [
              "dict"
            ]
          },
          "metadata": {
            "tags": []
          },
          "execution_count": 8
        }
      ]
    },
    {
      "cell_type": "code",
      "metadata": {
        "id": "HwggeKLR6aJj",
        "colab_type": "code",
        "colab": {
          "base_uri": "https://localhost:8080/",
          "height": 35
        },
        "outputId": "2b496a9c-5a2b-463e-b6f5-d613a912bb89"
      },
      "source": [
        "b = [1,2,3,4,5]\n",
        "type(b)\n",
        "b[0]=8\n",
        "b"
      ],
      "execution_count": 12,
      "outputs": [
        {
          "output_type": "execute_result",
          "data": {
            "text/plain": [
              "[8, 2, 3, 4, 5]"
            ]
          },
          "metadata": {
            "tags": []
          },
          "execution_count": 12
        }
      ]
    },
    {
      "cell_type": "code",
      "metadata": {
        "id": "s51MWl0f7Hn9",
        "colab_type": "code",
        "colab": {
          "base_uri": "https://localhost:8080/",
          "height": 226
        },
        "outputId": "e6dbc481-cf25-4bf9-e52a-781785f7b23c"
      },
      "source": [
        "c=1,2,3,4,5\n",
        "type(c)\n",
        "c[0]=8\n",
        "c"
      ],
      "execution_count": 14,
      "outputs": [
        {
          "output_type": "error",
          "ename": "TypeError",
          "evalue": "ignored",
          "traceback": [
            "\u001b[0;31m---------------------------------------------------------------------------\u001b[0m",
            "\u001b[0;31mTypeError\u001b[0m                                 Traceback (most recent call last)",
            "\u001b[0;32m<ipython-input-14-626f53c3d2c6>\u001b[0m in \u001b[0;36m<module>\u001b[0;34m()\u001b[0m\n\u001b[1;32m      1\u001b[0m \u001b[0mc\u001b[0m\u001b[0;34m=\u001b[0m\u001b[0;36m1\u001b[0m\u001b[0;34m,\u001b[0m\u001b[0;36m2\u001b[0m\u001b[0;34m,\u001b[0m\u001b[0;36m3\u001b[0m\u001b[0;34m,\u001b[0m\u001b[0;36m4\u001b[0m\u001b[0;34m,\u001b[0m\u001b[0;36m5\u001b[0m\u001b[0;34m\u001b[0m\u001b[0;34m\u001b[0m\u001b[0m\n\u001b[1;32m      2\u001b[0m \u001b[0mtype\u001b[0m\u001b[0;34m(\u001b[0m\u001b[0mc\u001b[0m\u001b[0;34m)\u001b[0m\u001b[0;34m\u001b[0m\u001b[0;34m\u001b[0m\u001b[0m\n\u001b[0;32m----> 3\u001b[0;31m \u001b[0mc\u001b[0m\u001b[0;34m[\u001b[0m\u001b[0;36m0\u001b[0m\u001b[0;34m]\u001b[0m\u001b[0;34m=\u001b[0m\u001b[0;36m8\u001b[0m\u001b[0;34m\u001b[0m\u001b[0;34m\u001b[0m\u001b[0m\n\u001b[0m\u001b[1;32m      4\u001b[0m \u001b[0mc\u001b[0m\u001b[0;34m\u001b[0m\u001b[0;34m\u001b[0m\u001b[0m\n",
            "\u001b[0;31mTypeError\u001b[0m: 'tuple' object does not support item assignment"
          ]
        }
      ]
    },
    {
      "cell_type": "markdown",
      "metadata": {
        "id": "v6b7EXJK8VS1",
        "colab_type": "text"
      },
      "source": [
        "# **[문제풀이]**"
      ]
    },
    {
      "cell_type": "markdown",
      "metadata": {
        "id": "FqbWnuHm8dpB",
        "colab_type": "text"
      },
      "source": [
        "**[문제1]**\n",
        "'*' 문자를 100번 출력하세요"
      ]
    },
    {
      "cell_type": "code",
      "metadata": {
        "id": "FNJwpAxR8vPa",
        "colab_type": "code",
        "colab": {}
      },
      "source": [
        "for i in range(100):\n",
        "  print('*')"
      ],
      "execution_count": 0,
      "outputs": []
    },
    {
      "cell_type": "markdown",
      "metadata": {
        "id": "X_5U30x58ouT",
        "colab_type": "text"
      },
      "source": [
        "**[문제2]**\n",
        "input() 내장 함수를 이용하여 id에 입력을 받기"
      ]
    },
    {
      "cell_type": "code",
      "metadata": {
        "id": "4GLNal_S9dRk",
        "colab_type": "code",
        "colab": {
          "base_uri": "https://localhost:8080/",
          "height": 35
        },
        "outputId": "7cef01b6-358c-412a-d0f5-f9fb35efbd64"
      },
      "source": [
        "id = input('id를 입력하세요 >>>')"
      ],
      "execution_count": 42,
      "outputs": [
        {
          "output_type": "stream",
          "text": [
            "id를 입력하세요 >>>샌즈\n"
          ],
          "name": "stdout"
        }
      ]
    },
    {
      "cell_type": "code",
      "metadata": {
        "id": "F7qyeXDp-W7S",
        "colab_type": "code",
        "colab": {
          "base_uri": "https://localhost:8080/",
          "height": 35
        },
        "outputId": "a8033ee3-17a3-449b-a666-67b7fd365125"
      },
      "source": [
        "type(id)"
      ],
      "execution_count": 40,
      "outputs": [
        {
          "output_type": "execute_result",
          "data": {
            "text/plain": [
              "str"
            ]
          },
          "metadata": {
            "tags": []
          },
          "execution_count": 40
        }
      ]
    },
    {
      "cell_type": "markdown",
      "metadata": {
        "id": "N-BYPeNE_ApP",
        "colab_type": "text"
      },
      "source": [
        "**[문제3]**\n",
        "나의 나이를 입력받아(변수:gap)환갑이 되는 나이 년도 구해보기 '당신이 환갑이 되는 년도는 2032년 입니다'와 같이 출력해보기"
      ]
    },
    {
      "cell_type": "code",
      "metadata": {
        "id": "oX7mqF6f_dyH",
        "colab_type": "code",
        "colab": {
          "base_uri": "https://localhost:8080/",
          "height": 53
        },
        "outputId": "354656ff-4003-4c16-ad76-511e163f59bb"
      },
      "source": [
        "gap = int(input('당신의 나이는? >>>'))\n",
        "year = (2020 - gap+1)+60\n",
        "print('당신이 환갑이 되는 년도는 '+str(year)+'년 입니다.')"
      ],
      "execution_count": 83,
      "outputs": [
        {
          "output_type": "stream",
          "text": [
            "당신의 나이는? >>>10\n",
            "당신이 환갑이 되는 년도는 2071년 입니다.\n"
          ],
          "name": "stdout"
        }
      ]
    },
    {
      "cell_type": "markdown",
      "metadata": {
        "id": "OiQgqEoZ_NWO",
        "colab_type": "text"
      },
      "source": [
        "**[문제4]**\n",
        "두개의 숫자를 입력받아 **,%,/,//\n",
        "```\n",
        "# a,b = input('두개의 숫자 입력').split()\n",
        "```\n",
        "\n"
      ]
    },
    {
      "cell_type": "code",
      "metadata": {
        "id": "FmziWhGMGZfB",
        "colab_type": "code",
        "colab": {}
      },
      "source": [
        ""
      ],
      "execution_count": 0,
      "outputs": []
    },
    {
      "cell_type": "code",
      "metadata": {
        "id": "NWUaRrITGCdl",
        "colab_type": "code",
        "colab": {
          "base_uri": "https://localhost:8080/",
          "height": 107
        },
        "outputId": "805dffb8-71c6-4bbc-e434-6eb4a43c0fe8"
      },
      "source": [
        "a, b = input('두개의 숫자 입력').split()\n",
        "a = int(a)\n",
        "b = int(b)\n",
        "print('a**b : ',a**b)\n",
        "print('a%b : ',a%b)\n",
        "print('a/b : ',a/b)\n",
        "print('a//b : ',a//b)"
      ],
      "execution_count": 106,
      "outputs": [
        {
          "output_type": "stream",
          "text": [
            "두개의 숫자 입력1 5\n",
            "a**b :  1\n",
            "a%b :  1\n",
            "a/b :  0.2\n",
            "a//b :  0\n"
          ],
          "name": "stdout"
        }
      ]
    }
  ]
}