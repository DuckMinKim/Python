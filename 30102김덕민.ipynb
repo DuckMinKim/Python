{
 "cells": [
  {
   "cell_type": "code",
   "execution_count": 4,
   "metadata": {},
   "outputs": [
    {
     "name": "stdout",
     "output_type": "stream",
     "text": [
      "Requirement already satisfied: pygame in c:\\users\\user\\anaconda3\\lib\\site-packages (1.9.6)\n",
      "Note: you may need to restart the kernel to use updated packages.\n"
     ]
    }
   ],
   "source": [
    "pip install pygame"
   ]
  },
  {
   "cell_type": "code",
   "execution_count": 14,
   "metadata": {},
   "outputs": [],
   "source": [
    "import pygame\n",
    "from pygame.locals import QUIT, Rect"
   ]
  },
  {
   "cell_type": "code",
   "execution_count": 15,
   "metadata": {},
   "outputs": [],
   "source": [
    "r = Rect(30,20,60,40)"
   ]
  },
  {
   "cell_type": "code",
   "execution_count": 16,
   "metadata": {},
   "outputs": [
    {
     "data": {
      "text/plain": [
       "60"
      ]
     },
     "execution_count": 16,
     "metadata": {},
     "output_type": "execute_result"
    }
   ],
   "source": [
    "r.width"
   ]
  },
  {
   "cell_type": "code",
   "execution_count": 17,
   "metadata": {},
   "outputs": [
    {
     "data": {
      "text/plain": [
       "(60, 40)"
      ]
     },
     "execution_count": 17,
     "metadata": {},
     "output_type": "execute_result"
    }
   ],
   "source": [
    "r.center"
   ]
  },
  {
   "cell_type": "code",
   "execution_count": 34,
   "metadata": {},
   "outputs": [],
   "source": [
    "import sys\n",
    "import pygame\n",
    "from pygame.locals import QUIT, Rect"
   ]
  },
  {
   "cell_type": "code",
   "execution_count": 3,
   "metadata": {},
   "outputs": [
    {
     "ename": "SystemExit",
     "evalue": "",
     "output_type": "error",
     "traceback": [
      "An exception has occurred, use %tb to see the full traceback.\n",
      "\u001b[1;31mSystemExit\u001b[0m\n"
     ]
    }
   ],
   "source": [
    "#기본 화면 구성\n",
    "import sys\n",
    "import pygame\n",
    "from pygame.locals import QUIT, Rect\n",
    "\n",
    "pygame.init()\n",
    "\n",
    "SURFACE = pygame.display.set_mode((800,600))\n",
    "pygame.display.set_caption('Game Window')\n",
    "\n",
    "def main():\n",
    "    while True:\n",
    "        SURFACE.fill((255,255,255))\n",
    "        \n",
    "        for event in pygame.event.get():\n",
    "            if event.type == QUIT:\n",
    "                pygame.quit()\n",
    "                sys.exit()\n",
    "                \n",
    "            pygame.draw.rect(SURFACE,(255,0,0),(20,180,200,200))\n",
    "            pygame.draw.rect(SURFACE,(0,255,0),(20,50,100,100),3)\n",
    "            pygame.draw.rect(SURFACE,(0,0,255),((150,50),(80,50)))\n",
    "            \n",
    "            rect0 = Rect(20,400,140,80)\n",
    "            pygame.draw.rect(SURFACE,(255,255,0),rect0)\n",
    "            \n",
    "            pygame.draw.line(SURFACE, (255,0,0),(400,80),(700,80))\n",
    "            pygame.draw.line(SURFACE, (0,0,255),(400,150),(700,150),15)\n",
    "            pygame.draw.line(SURFACE, (0,255,0),(550,200),(550,400),30)\n",
    "            \n",
    "            pygame.draw.circle(SURFACE, (255,0,255),(450,500),10)\n",
    "            pygame.draw.circle(SURFACE, (0,255,0),(550,500),20)\n",
    "            pygame.draw.circle(SURFACE, (255,255,0),(650,500),30)\n",
    "            pygame.draw.circle(SURFACE, (155,205,233),(350,400),60,5)\n",
    "            \n",
    "            pygame.display.update()\n",
    "            \n",
    "if __name__ == '__main__':\n",
    "    main()"
   ]
  },
  {
   "cell_type": "code",
   "execution_count": 27,
   "metadata": {},
   "outputs": [
    {
     "ename": "SystemExit",
     "evalue": "",
     "output_type": "error",
     "traceback": [
      "An exception has occurred, use %tb to see the full traceback.\n",
      "\u001b[1;31mSystemExit\u001b[0m\n"
     ]
    }
   ],
   "source": [
    "#격자선 그리기\n",
    "import sys\n",
    "import pygame\n",
    "from pygame.locals import QUIT, Rect\n",
    "\n",
    "pygame.init()\n",
    "\n",
    "SURFACE = pygame.display.set_mode((800,600))\n",
    "pygame.display.set_caption('Game Window')\n",
    "\n",
    "def main():\n",
    "    while True:\n",
    "        SURFACE.fill((0,0,0))\n",
    "        \n",
    "        for event in pygame.event.get():\n",
    "            if event.type == QUIT:\n",
    "                pygame.quit()\n",
    "                sys.exit()\n",
    "            for i in range(0,800,40):\n",
    "                pygame.draw.line(SURFACE, (255,255,255),(0,i),(800,i),1)\n",
    "                pygame.draw.line(SURFACE, (255,255,255),(i,0),(i,600),1)\n",
    "            pygame.display.update()\n",
    "            \n",
    "if __name__ == '__main__':\n",
    "    main()"
   ]
  },
  {
   "cell_type": "code",
   "execution_count": 2,
   "metadata": {},
   "outputs": [
    {
     "ename": "SystemExit",
     "evalue": "",
     "output_type": "error",
     "traceback": [
      "An exception has occurred, use %tb to see the full traceback.\n",
      "\u001b[1;31mSystemExit\u001b[0m\n"
     ]
    }
   ],
   "source": [
    "#파이게임 이미지 움직이기\n",
    "import sys\n",
    "import pygame\n",
    "from pygame.locals import QUIT, KEYDOWN, K_LEFT,K_RIGHT,K_UP,K_DOWN\n",
    "\n",
    "pygame.init()\n",
    "pygame.key.set_repeat(5,5)\n",
    "\n",
    "SURFACE = pygame.display.set_mode((800,600))\n",
    "pygame.display.set_caption('Game Window')\n",
    "\n",
    "def main():\n",
    "    pos = [400,400]\n",
    "    while True:\n",
    "        logo = pygame.image.load('pygamelogo.png')\n",
    "        #pos = [200,150]\n",
    "        \n",
    "        #SURFACE.fill((255,255,255))\n",
    "        \n",
    "        for event in pygame.event.get():\n",
    "            if event.type == QUIT:\n",
    "                pygame.quit()\n",
    "                sys.exit()\n",
    "            elif event.type == KEYDOWN:\n",
    "                if event.key == K_LEFT:\n",
    "                    pos[0] -= 5\n",
    "                elif event.key == K_RIGHT:\n",
    "                    pos[0] += 5\n",
    "                elif event.key == K_UP:\n",
    "                    pos[1] -= 5\n",
    "                elif event.key == K_DOWN:\n",
    "                    pos[1] +=5\n",
    "            pos[0] = pos[0] % 800\n",
    "            pos[1] = pos[1] % 600\n",
    "            \n",
    "            SURFACE.fill((255,255,255))\n",
    "            \n",
    "            rect = logo.get_rect()\n",
    "            rect.center = pos\n",
    "            \n",
    "            SURFACE.blit(logo,rect)\n",
    "            \n",
    "            pygame.display.update()\n",
    "            \n",
    "if __name__ == '__main__':\n",
    "    main()"
   ]
  }
 ],
 "metadata": {
  "kernelspec": {
   "display_name": "Python 3",
   "language": "python",
   "name": "python3"
  },
  "language_info": {
   "codemirror_mode": {
    "name": "ipython",
    "version": 3
   },
   "file_extension": ".py",
   "mimetype": "text/x-python",
   "name": "python",
   "nbconvert_exporter": "python",
   "pygments_lexer": "ipython3",
   "version": "3.7.4"
  }
 },
 "nbformat": 4,
 "nbformat_minor": 4
}
