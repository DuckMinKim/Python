{
  "nbformat": 4,
  "nbformat_minor": 0,
  "metadata": {
    "colab": {
      "name": "1일차_1차시.ipynb",
      "provenance": [],
      "collapsed_sections": [],
      "authorship_tag": "ABX9TyO+Ecfc6tLKa7y3b4CuoTts",
      "include_colab_link": true
    },
    "kernelspec": {
      "name": "python3",
      "display_name": "Python 3"
    }
  },
  "cells": [
    {
      "cell_type": "markdown",
      "metadata": {
        "id": "view-in-github",
        "colab_type": "text"
      },
      "source": [
        "<a href=\"https://colab.research.google.com/github/DuckMinKim/Python/blob/master/1%EC%9D%BC%EC%B0%A8_1%EC%B0%A8%EC%8B%9C.ipynb\" target=\"_parent\"><img src=\"https://colab.research.google.com/assets/colab-badge.svg\" alt=\"Open In Colab\"/></a>"
      ]
    },
    {
      "cell_type": "code",
      "metadata": {
        "id": "OQ15Fkpb2Z4c",
        "colab_type": "code",
        "outputId": "324d86ab-4e34-4165-e511-5336661174ba",
        "colab": {
          "base_uri": "https://localhost:8080/",
          "height": 35
        }
      },
      "source": [
        "print('인천정보산업고')"
      ],
      "execution_count": 17,
      "outputs": [
        {
          "output_type": "stream",
          "text": [
            "인천정보산업고\n"
          ],
          "name": "stdout"
        }
      ]
    },
    {
      "cell_type": "code",
      "metadata": {
        "id": "-c-rRXcy4FCi",
        "colab_type": "code",
        "colab": {
          "base_uri": "https://localhost:8080/",
          "height": 126
        },
        "outputId": "a746afec-2501-4525-c04c-ae20aaae19f1"
      },
      "source": [
        "#2020/04/10\n",
        "a = 9\n",
        "b = 2\n",
        "print(\"a+b= %.2f\"%(a+b)) #더하기\n",
        "print(\"a-b= %.2f\"%(a-b)) #빼기\n",
        "print(\"a*b= %.2f\"%(a*b)) #곱하기\n",
        "print(\"a/b= %.2f\"%(a/b)) #나누기\n",
        "print(\"a**b= %.2f\"%(a**b)) #제곱\n",
        "print(\"a//b= %.2f\"%(a//b)) #몫"
      ],
      "execution_count": 46,
      "outputs": [
        {
          "output_type": "stream",
          "text": [
            "a+b= 11.00\n",
            "a-b= 7.00\n",
            "a*b= 18.00\n",
            "a/b= 4.50\n",
            "a**b= 81.00\n",
            "a//b= 4.00\n"
          ],
          "name": "stdout"
        }
      ]
    },
    {
      "cell_type": "code",
      "metadata": {
        "id": "_Nez2pzC6q49",
        "colab_type": "code",
        "colab": {}
      },
      "source": [
        ""
      ],
      "execution_count": 0,
      "outputs": []
    },
    {
      "cell_type": "markdown",
      "metadata": {
        "id": "iE-2pGkU4G55",
        "colab_type": "text"
      },
      "source": [
        "와  **샌즈**\n"
      ]
    }
  ]
}