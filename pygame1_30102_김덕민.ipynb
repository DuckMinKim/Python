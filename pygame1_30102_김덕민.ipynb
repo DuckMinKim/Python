{
 "cells": [
  {
   "cell_type": "code",
   "execution_count": null,
   "metadata": {},
   "outputs": [],
   "source": [
    "pip install pygame"
   ]
  },
  {
   "cell_type": "code",
   "execution_count": null,
   "metadata": {},
   "outputs": [],
   "source": [
    "import sys\n",
    "import pygame\n",
    "from pygame.locals import QUIT"
   ]
  },
  {
   "cell_type": "code",
   "execution_count": null,
   "metadata": {},
   "outputs": [],
   "source": [
    "pygame.init()"
   ]
  },
  {
   "cell_type": "code",
   "execution_count": null,
   "metadata": {},
   "outputs": [],
   "source": [
    "SURFACE = pygame.display.set_mode((800,600))\n",
    "pygame.display.set_caption('Game Window')"
   ]
  },
  {
   "cell_type": "code",
   "execution_count": null,
   "metadata": {
    "scrolled": true
   },
   "outputs": [],
   "source": [
    "def main():\n",
    "    while Tue:\n",
    "        SURFACE.fill((202,225,255))\n",
    "        \n",
    "        for event in pygame.event.get():\n",
    "            if event.type == QUIT:\n",
    "                pygame.quit()\n",
    "                sys.exit()\n",
    "            \n",
    "            pygame.display.update()\n",
    "\n",
    "if __name__=='__main__':\n",
    "    main()"
   ]
  },
  {
   "cell_type": "code",
   "execution_count": null,
   "metadata": {},
   "outputs": [],
   "source": [
    "FPSCLOCK = pygame.time.Clock()\n",
    "def main():\n",
    "    sysfont = pygame.font.SysFont(None,72)\n",
    "    message1 = sysfont.render('Hello Python', True, (0,191,255))\n",
    "    message2 = sysfont.render('OK! Python', True, (255,182,193))\n",
    "    \n",
    "    message1_rect = message1.get_rect()\n",
    "    message1_rect.center = (200,100)\n",
    "    message2_rect = message2.get_rect()\n",
    "    message2_rect.center = (200,200)\n",
    "    \n",
    "    while True:\n",
    "        SURFACE.fill((255,239,219))\n",
    "        SURFACE.blit(message1,message1_rect)\n",
    "        SURFACE.blit(message2,message2_rect)\n",
    "                \n",
    "        for event in pygame.event.get():\n",
    "            if event.type == QUIT:\n",
    "                pygame.quit()\n",
    "                sys.exit()\n",
    "            \n",
    "            pygame.display.update()\n",
    "\n",
    "if __name__=='__main__':\n",
    "    main()"
   ]
  },
  {
   "cell_type": "code",
   "execution_count": null,
   "metadata": {},
   "outputs": [],
   "source": [
    "def main():\n",
    "    sysfont = pygame.font.SysFont(None,36)\n",
    "    counter = 0\n",
    "    count_image = sysfont.render('Counter   is     {}'.format(counter),True,(255,114,86))\n",
    "    while True:\n",
    "        SURFACE.fill((255,218,185))\n",
    "        SURFACE.blit(count_image,(50,50))\n",
    "                \n",
    "        for event in pygame.event.get():\n",
    "            if event.type == QUIT:\n",
    "                pygame.quit()\n",
    "                sys.exit()\n",
    "            \n",
    "            pygame.display.update()\n",
    "\n",
    "if __name__=='__main__':\n",
    "    main()"
   ]
  }
 ],
 "metadata": {
  "kernelspec": {
   "display_name": "Python 3",
   "language": "python",
   "name": "python3"
  },
  "language_info": {
   "codemirror_mode": {
    "name": "ipython",
    "version": 3
   },
   "file_extension": ".py",
   "mimetype": "text/x-python",
   "name": "python",
   "nbconvert_exporter": "python",
   "pygments_lexer": "ipython3",
   "version": "3.7.4"
  }
 },
 "nbformat": 4,
 "nbformat_minor": 4
}
