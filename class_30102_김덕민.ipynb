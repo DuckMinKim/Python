{
 "cells": [
  {
   "cell_type": "code",
   "execution_count": 2,
   "metadata": {},
   "outputs": [
    {
     "data": {
      "text/plain": [
       "list"
      ]
     },
     "execution_count": 2,
     "metadata": {},
     "output_type": "execute_result"
    }
   ],
   "source": [
    "a = [1,2,3,4,5]\n",
    "type(a)"
   ]
  },
  {
   "cell_type": "code",
   "execution_count": 19,
   "metadata": {},
   "outputs": [
    {
     "data": {
      "text/plain": [
       "[1, 2, 3, 4, 5, 100]"
      ]
     },
     "execution_count": 19,
     "metadata": {},
     "output_type": "execute_result"
    }
   ],
   "source": [
    "a.append(100)\n",
    "a"
   ]
  },
  {
   "cell_type": "code",
   "execution_count": 20,
   "metadata": {},
   "outputs": [
    {
     "data": {
      "text/plain": [
       "[1, 2, 3, 4, 5]"
      ]
     },
     "execution_count": 20,
     "metadata": {},
     "output_type": "execute_result"
    }
   ],
   "source": [
    "a.remove(100)\n",
    "a"
   ]
  },
  {
   "cell_type": "code",
   "execution_count": 22,
   "metadata": {},
   "outputs": [],
   "source": [
    "def test_1():\n",
    "    pass\n",
    "def test_2():\n",
    "    pass"
   ]
  },
  {
   "cell_type": "code",
   "execution_count": 23,
   "metadata": {},
   "outputs": [],
   "source": [
    "a = [1,2,3,4,5]\n",
    "b = (1,2,3) #tuple"
   ]
  },
  {
   "cell_type": "code",
   "execution_count": 27,
   "metadata": {},
   "outputs": [
    {
     "data": {
      "text/plain": [
       "[1, 100, 3, 4, 5]"
      ]
     },
     "execution_count": 27,
     "metadata": {},
     "output_type": "execute_result"
    }
   ],
   "source": [
    "a[1] =100\n",
    "a"
   ]
  },
  {
   "cell_type": "code",
   "execution_count": 29,
   "metadata": {},
   "outputs": [
    {
     "data": {
      "text/plain": [
       "[1, 2, 3]"
      ]
     },
     "execution_count": 29,
     "metadata": {},
     "output_type": "execute_result"
    }
   ],
   "source": [
    "c = list(b)\n",
    "c"
   ]
  },
  {
   "cell_type": "code",
   "execution_count": 53,
   "metadata": {},
   "outputs": [],
   "source": [
    "class person() :\n",
    "    def __init__(self, name,age=\"4$\"):\n",
    "        #print(self, \"GOOD\")\n",
    "        self.name = name\n",
    "        self.age = age\n",
    "        print(\"당신의 이름은 \",self.name)\n",
    "        print(\"당신의 나이는 \",self.age)"
   ]
  },
  {
   "cell_type": "code",
   "execution_count": 40,
   "metadata": {},
   "outputs": [
    {
     "name": "stdout",
     "output_type": "stream",
     "text": [
      "당신의 이름은  아잉협회장\n",
      "당신의 나이는  200\n"
     ]
    }
   ],
   "source": [
    "p1 = person(\"아잉협회장\",200)"
   ]
  },
  {
   "cell_type": "code",
   "execution_count": 43,
   "metadata": {},
   "outputs": [
    {
     "name": "stdout",
     "output_type": "stream",
     "text": [
      "당신의 이름은  소금\n",
      "당신의 나이는  10억년 정도\n"
     ]
    }
   ],
   "source": [
    "p2 = person(\"소금\",\"10억년 정도\")"
   ]
  },
  {
   "cell_type": "code",
   "execution_count": 54,
   "metadata": {},
   "outputs": [
    {
     "name": "stdout",
     "output_type": "stream",
     "text": [
      "당신의 이름은  1\n",
      "당신의 나이는  4$\n",
      "금귤\n"
     ]
    }
   ],
   "source": [
    "p3 = person(\"1\",)\n",
    "p3.name = \"금귤\"\n",
    "print(p3.name)"
   ]
  },
  {
   "cell_type": "code",
   "execution_count": 77,
   "metadata": {},
   "outputs": [],
   "source": [
    "class person() :\n",
    "    def __init__(self, name,food,how):\n",
    "        self.name = name\n",
    "        self.food = food\n",
    "        self.how = how\n",
    "    def sleep(self):\n",
    "        print(\"{}이 {}을 {}먹었다\".format(self.name,self.food,self.how))"
   ]
  },
  {
   "cell_type": "code",
   "execution_count": 80,
   "metadata": {},
   "outputs": [
    {
     "name": "stdout",
     "output_type": "stream",
     "text": [
      "금귤이 소금을 맛있게먹었다\n"
     ]
    }
   ],
   "source": [
    "p4 = person(\"금귤\",\"소금\",\"맛있게\")\n",
    "p4.sleep()"
   ]
  },
  {
   "cell_type": "code",
   "execution_count": 81,
   "metadata": {},
   "outputs": [],
   "source": [
    "class person() :\n",
    "    def __init__(self, name,time):\n",
    "        self.name = name\n",
    "        self.time = time\n",
    "    def game(self):\n",
    "        print(\"{}가 게임을 {} 동안 게임을 했다\".format(self.name,self.time))"
   ]
  },
  {
   "cell_type": "code",
   "execution_count": 99,
   "metadata": {},
   "outputs": [
    {
     "name": "stdout",
     "output_type": "stream",
     "text": [
      "상현이가 게임을 우주가 1순할 시간 동안 게임을 했다\n"
     ]
    }
   ],
   "source": [
    "p5 = person(\"상현이\",\"우주가 1순할 시간\")\n",
    "p5.game()"
   ]
  },
  {
   "cell_type": "code",
   "execution_count": 418,
   "metadata": {},
   "outputs": [],
   "source": [
    "class counter():\n",
    "    def __init__(self, num):\n",
    "        self.num = num\n",
    "    def inc(self):\n",
    "        self.num = self.num+1\n",
    "    \n",
    "    def reset(self):\n",
    "        self.num = 0\n",
    "        \n",
    "    def print_cnt(self):\n",
    "        print(\"현재 num값: \",self.num)"
   ]
  },
  {
   "cell_type": "code",
   "execution_count": 431,
   "metadata": {},
   "outputs": [],
   "source": [
    "a = counter(0)"
   ]
  },
  {
   "cell_type": "code",
   "execution_count": 420,
   "metadata": {},
   "outputs": [],
   "source": [
    "a.inc()"
   ]
  },
  {
   "cell_type": "code",
   "execution_count": 429,
   "metadata": {},
   "outputs": [],
   "source": [
    "a.reset()"
   ]
  },
  {
   "cell_type": "code",
   "execution_count": 430,
   "metadata": {},
   "outputs": [
    {
     "name": "stdout",
     "output_type": "stream",
     "text": [
      "현재 num값:  0\n"
     ]
    }
   ],
   "source": [
    "a.print_cnt()"
   ]
  },
  {
   "cell_type": "code",
   "execution_count": 462,
   "metadata": {},
   "outputs": [],
   "source": [
    "class person() :\n",
    "    def __init__(self, name):\n",
    "        self.name = name\n",
    "        \n",
    "    def eat(self,food):\n",
    "        print(\"{}가 {}(을)를 잘먹는다\".format(self.name,food))\n",
    "    def go(self,job):\n",
    "        print(\"{}가 고등학교를 졸업해서 {}에 다닌다\".format(self.name,job))\n",
    "    def sleep(self,min):\n",
    "        print(\"{}가 {}분 동안 잠을 잤다\".format(self.name,min))\n",
    "    def game(self,hour):\n",
    "        print(\"{}가 {}시간 동안 게임을 했다\".format(self.name,hour))\n",
    "        \n",
    "class student(person):\n",
    "    def sleep(self,min):\n",
    "        super().sleep(min)\n",
    "        print(\"{}가 {}분 동안 잠을 자서 혼났다\".format(self.name,min))\n",
    "        \n",
    "class Empoloyee(person):\n",
    "    def go(self,job): #오버라이딩\n",
    "        super().go(job)\n",
    "        print(\"{}가 {}을 졸업해서, 구글에 취업했다.\".format(self.name,job))\n",
    "        "
   ]
  },
  {
   "cell_type": "code",
   "execution_count": 455,
   "metadata": {},
   "outputs": [
    {
     "name": "stdout",
     "output_type": "stream",
     "text": [
      "더덕이가 더덕구이(을)를 잘먹는다\n",
      "더덕이가 졸업해서 집에 다닌다\n"
     ]
    }
   ],
   "source": [
    "p6=person(\"더덕이\")\n",
    "p6.eat(\"더덕구이\")\n",
    "p6.go(\"집\")"
   ]
  },
  {
   "cell_type": "code",
   "execution_count": 458,
   "metadata": {},
   "outputs": [
    {
     "name": "stdout",
     "output_type": "stream",
     "text": [
      "글쓴이가 30분 동안 잠을 잤다\n",
      "글쓴이가 30분 동안 잠을 자서 혼났다\n"
     ]
    }
   ],
   "source": [
    "p6 = student(\"글쓴이\")\n",
    "p6.sleep(30)"
   ]
  },
  {
   "cell_type": "code",
   "execution_count": 465,
   "metadata": {},
   "outputs": [
    {
     "name": "stdout",
     "output_type": "stream",
     "text": [
      "민우가 고등학교를 졸업해서 인하대학교에 다닌다\n",
      "민우가 인하대학교을 졸업해서, 구글에 취업했다.\n"
     ]
    }
   ],
   "source": [
    "p7 = Empoloyee(\"민우\")\n",
    "p7.go(\"인하대학교\")"
   ]
  }
 ],
 "metadata": {
  "kernelspec": {
   "display_name": "Python 3",
   "language": "python",
   "name": "python3"
  },
  "language_info": {
   "codemirror_mode": {
    "name": "ipython",
    "version": 3
   },
   "file_extension": ".py",
   "mimetype": "text/x-python",
   "name": "python",
   "nbconvert_exporter": "python",
   "pygments_lexer": "ipython3",
   "version": "3.7.4"
  }
 },
 "nbformat": 4,
 "nbformat_minor": 4
}
