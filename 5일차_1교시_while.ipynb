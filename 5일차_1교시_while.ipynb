{
  "nbformat": 4,
  "nbformat_minor": 0,
  "metadata": {
    "colab": {
      "name": "5일차_1교시_while.ipynb",
      "provenance": [],
      "collapsed_sections": [],
      "authorship_tag": "ABX9TyPZYHHDSNZqb5lebrkL10e5",
      "include_colab_link": true
    },
    "kernelspec": {
      "name": "python3",
      "display_name": "Python 3"
    }
  },
  "cells": [
    {
      "cell_type": "markdown",
      "metadata": {
        "id": "view-in-github",
        "colab_type": "text"
      },
      "source": [
        "<a href=\"https://colab.research.google.com/github/DuckMinKim/Python/blob/master/5%EC%9D%BC%EC%B0%A8_1%EA%B5%90%EC%8B%9C_while.ipynb\" target=\"_parent\"><img src=\"https://colab.research.google.com/assets/colab-badge.svg\" alt=\"Open In Colab\"/></a>"
      ]
    },
    {
      "cell_type": "markdown",
      "metadata": {
        "id": "O_YfRSim5deK",
        "colab_type": "text"
      },
      "source": [
        "# 1.1.while\n",
        "\n",
        "\n",
        "```\n",
        "# \n",
        "```\n",
        "\n"
      ]
    },
    {
      "cell_type": "code",
      "metadata": {
        "id": "Kq1Jq3wr5lrz",
        "colab_type": "code",
        "outputId": "840d7671-f711-45f5-a2ce-3da53600bb67",
        "colab": {
          "base_uri": "https://localhost:8080/",
          "height": 35
        }
      },
      "source": [
        "for i in range(1,11):\n",
        "  print(i,end=\" \")"
      ],
      "execution_count": 0,
      "outputs": [
        {
          "output_type": "stream",
          "text": [
            "1 2 3 4 5 6 7 8 9 10 "
          ],
          "name": "stdout"
        }
      ]
    },
    {
      "cell_type": "code",
      "metadata": {
        "id": "tOc5rSkE6E59",
        "colab_type": "code",
        "outputId": "93ba590d-ce16-4aed-f466-72e2421967d3",
        "colab": {
          "base_uri": "https://localhost:8080/",
          "height": 35
        }
      },
      "source": [
        "i = 1\n",
        "while i < 11:\n",
        "  print(i,end=\" \")\n",
        "  i+=1"
      ],
      "execution_count": 0,
      "outputs": [
        {
          "output_type": "stream",
          "text": [
            "1 2 3 4 5 6 7 8 9 10 "
          ],
          "name": "stdout"
        }
      ]
    },
    {
      "cell_type": "code",
      "metadata": {
        "id": "hnjzzpZr6HZj",
        "colab_type": "code",
        "outputId": "d53f6c09-7abf-4567-9f93-c0764c753693",
        "colab": {
          "base_uri": "https://localhost:8080/",
          "height": 35
        }
      },
      "source": [
        "a = list(range(10,101,10))\n",
        "a"
      ],
      "execution_count": 0,
      "outputs": [
        {
          "output_type": "execute_result",
          "data": {
            "text/plain": [
              "[10, 20, 30, 40, 50, 60, 70, 80, 90, 100]"
            ]
          },
          "metadata": {
            "tags": []
          },
          "execution_count": 40
        }
      ]
    },
    {
      "cell_type": "code",
      "metadata": {
        "id": "I0tyh99f6pmk",
        "colab_type": "code",
        "outputId": "3bcb3d4b-b940-45b5-9b05-64636513a620",
        "colab": {
          "base_uri": "https://localhost:8080/",
          "height": 197
        }
      },
      "source": [
        "i = 0\n",
        "while i < len(a):\n",
        "  print(a[i])\n",
        "  i+=1"
      ],
      "execution_count": 0,
      "outputs": [
        {
          "output_type": "stream",
          "text": [
            "10\n",
            "20\n",
            "30\n",
            "40\n",
            "50\n",
            "60\n",
            "70\n",
            "80\n",
            "90\n",
            "100\n"
          ],
          "name": "stdout"
        }
      ]
    },
    {
      "cell_type": "code",
      "metadata": {
        "id": "TpVjDJ8c7o4c",
        "colab_type": "code",
        "outputId": "b3f986f5-6c8b-4eed-c871-785bd78990a8",
        "colab": {
          "base_uri": "https://localhost:8080/",
          "height": 107
        }
      },
      "source": [
        "lunch = ['라면','햄버거','김밥','돈가스','자장면']\n",
        "i = 0\n",
        "while i<len(lunch):\n",
        "  print(lunch[i])\n",
        "  i+=1"
      ],
      "execution_count": 0,
      "outputs": [
        {
          "output_type": "stream",
          "text": [
            "라면\n",
            "햄버거\n",
            "김밥\n",
            "돈가스\n",
            "자장면\n"
          ],
          "name": "stdout"
        }
      ]
    },
    {
      "cell_type": "code",
      "metadata": {
        "id": "fsZWFw2g8GBT",
        "colab_type": "code",
        "outputId": "a2233f79-2f54-4bbc-f3d0-4daebdf17b9c",
        "colab": {
          "base_uri": "https://localhost:8080/",
          "height": 35
        }
      },
      "source": [
        "lunch.sort()\n",
        "lunch"
      ],
      "execution_count": 0,
      "outputs": [
        {
          "output_type": "execute_result",
          "data": {
            "text/plain": [
              "['김밥', '돈가스', '라면', '자장면', '햄버거']"
            ]
          },
          "metadata": {
            "tags": []
          },
          "execution_count": 36
        }
      ]
    },
    {
      "cell_type": "code",
      "metadata": {
        "id": "XpHDHmG68g8m",
        "colab_type": "code",
        "outputId": "f83a5da8-456a-456a-a460-41b95ff44952",
        "colab": {
          "base_uri": "https://localhost:8080/",
          "height": 35
        }
      },
      "source": [
        "lunch.reverse()\n",
        "lunch"
      ],
      "execution_count": 0,
      "outputs": [
        {
          "output_type": "execute_result",
          "data": {
            "text/plain": [
              "['김밥', '돈가스', '라면', '자장면', '햄버거']"
            ]
          },
          "metadata": {
            "tags": []
          },
          "execution_count": 38
        }
      ]
    },
    {
      "cell_type": "code",
      "metadata": {
        "id": "WvHP-Ste8koV",
        "colab_type": "code",
        "outputId": "da8fbe23-8c30-4588-a8f7-027d2fc98359",
        "colab": {
          "base_uri": "https://localhost:8080/",
          "height": 35
        }
      },
      "source": [
        "import random as r\n",
        "r.shuffle(lunch)\n",
        "lunch"
      ],
      "execution_count": 0,
      "outputs": [
        {
          "output_type": "execute_result",
          "data": {
            "text/plain": [
              "['햄버거', '돈가스', '김밥', '자장면', '라면']"
            ]
          },
          "metadata": {
            "tags": []
          },
          "execution_count": 49
        }
      ]
    },
    {
      "cell_type": "markdown",
      "metadata": {
        "id": "BE-jZRA69BDb",
        "colab_type": "text"
      },
      "source": [
        "#1.2.break ~ continue\n",
        "\n",
        "```\n",
        "# continue\n",
        "```\n",
        "\n"
      ]
    },
    {
      "cell_type": "code",
      "metadata": {
        "id": "W_oa4RvT9KHJ",
        "colab_type": "code",
        "outputId": "a5870144-e6d0-4bca-e4b6-fd65239d1223",
        "colab": {
          "base_uri": "https://localhost:8080/",
          "height": 35
        }
      },
      "source": [
        "i = 1\n",
        "while i<=10:\n",
        "  print(i,end=\" \")\n",
        "  i+=1\n",
        "  if(i<7):\n",
        "    continue\n",
        "  break"
      ],
      "execution_count": 0,
      "outputs": [
        {
          "output_type": "stream",
          "text": [
            "1 2 3 4 5 6 "
          ],
          "name": "stdout"
        }
      ]
    },
    {
      "cell_type": "markdown",
      "metadata": {
        "id": "WNHDjh9j9dIK",
        "colab_type": "text"
      },
      "source": [
        "#[연습문제1]\n",
        "\n",
        "1. 10부터 10단위 100까지의 num list 만들기 : range() 이용\n",
        "2. while 문을 이용하여 list값 출력\n",
        "3. list 합계와 평균구하기\n",
        "4. continue를 이용하여 50빼고 출력하기\n",
        "5. break를 이용하여 80까지만 출력\n",
        "\n",
        "```\n",
        "10/ 20\n",
        "```\n",
        "\n"
      ]
    },
    {
      "cell_type": "code",
      "metadata": {
        "id": "-xXJM09L9t8C",
        "colab_type": "code",
        "outputId": "24f1c50b-4153-448f-b3ae-fa4756a6dec3",
        "colab": {
          "base_uri": "https://localhost:8080/",
          "height": 71
        }
      },
      "source": [
        "num = list(range(10,101,10))\n",
        "sum =0\n",
        "i = 0\n",
        "while i < len(num): \n",
        "  if num[i]==50:\n",
        "    i+=1\n",
        "    continue\n",
        "  if num[i]>80:\n",
        "    break\n",
        "  print(num[i],end=\" \")\n",
        "  sum += int(num[i])\n",
        "  i+=1\n",
        "print(\"\\n합\",sum,\"\\n평균\",sum/(i-1))"
      ],
      "execution_count": 0,
      "outputs": [
        {
          "output_type": "stream",
          "text": [
            "10 20 30 40 60 70 80 \n",
            "합 310 \n",
            "평균 44.285714285714285\n"
          ],
          "name": "stdout"
        }
      ]
    },
    {
      "cell_type": "markdown",
      "metadata": {
        "id": "AEVEOKsjBkZV",
        "colab_type": "text"
      },
      "source": [
        ""
      ]
    },
    {
      "cell_type": "markdown",
      "metadata": {
        "id": "UdZH3ennHpTN",
        "colab_type": "text"
      },
      "source": [
        "**[연습문제]**\n",
        "입력값이 exit이면 멈추고 그렇지 않으면 계속 입력받고 출력받기\n",
        "\n"
      ]
    },
    {
      "cell_type": "code",
      "metadata": {
        "id": "mzXu3fuaHz1r",
        "colab_type": "code",
        "colab": {}
      },
      "source": [
        "echo = input(\"입력 >>> \")\n",
        "while echo != \"exit\":\n",
        "  print(\"입력값 : \",echo)"
      ],
      "execution_count": 0,
      "outputs": []
    },
    {
      "cell_type": "markdown",
      "metadata": {
        "id": "isbs-1I_IyGz",
        "colab_type": "text"
      },
      "source": [
        "[연습문제]\n",
        "\n",
        "---\n",
        "id가 같으면 회원입니다.\n",
        "그렇지 않으면 회원가입\n",
        "* id = injungsan"
      ]
    },
    {
      "cell_type": "code",
      "metadata": {
        "id": "PoynY5q_Iv3m",
        "colab_type": "code",
        "colab": {
          "base_uri": "https://localhost:8080/",
          "height": 53
        },
        "outputId": "e7ccc106-e291-4081-ae42-44c5900e6222"
      },
      "source": [
        "id = input(\"아이디 입력 : \")\n",
        "if id==\"injungsan\":\n",
        "  print(\"회원입니다\")\n",
        "else:\n",
        "  print(\"회원가입 하세요\")"
      ],
      "execution_count": 105,
      "outputs": [
        {
          "output_type": "stream",
          "text": [
            "아이디 입력 : injungsan\n",
            "회원입니다\n"
          ],
          "name": "stdout"
        }
      ]
    },
    {
      "cell_type": "markdown",
      "metadata": {
        "id": "L4LBJ1i0Ilax",
        "colab_type": "text"
      },
      "source": [
        ""
      ]
    }
  ]
}