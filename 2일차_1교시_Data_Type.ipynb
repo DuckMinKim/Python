{
  "nbformat": 4,
  "nbformat_minor": 0,
  "metadata": {
    "colab": {
      "name": "2일차_1교시_Data_Type.ipynb",
      "provenance": [],
      "collapsed_sections": [],
      "authorship_tag": "ABX9TyPNuzzrWmYFRmpNuZQlihDk",
      "include_colab_link": true
    },
    "kernelspec": {
      "name": "python3",
      "display_name": "Python 3"
    }
  },
  "cells": [
    {
      "cell_type": "markdown",
      "metadata": {
        "id": "view-in-github",
        "colab_type": "text"
      },
      "source": [
        "<a href=\"https://colab.research.google.com/github/DuckMinKim/Python/blob/master/2%EC%9D%BC%EC%B0%A8_1%EA%B5%90%EC%8B%9C_Data_Type.ipynb\" target=\"_parent\"><img src=\"https://colab.research.google.com/assets/colab-badge.svg\" alt=\"Open In Colab\"/></a>"
      ]
    },
    {
      "cell_type": "markdown",
      "metadata": {
        "id": "kMtxa9Bx4BBo",
        "colab_type": "text"
      },
      "source": [
        "**[학습목표]**\n",
        "---\n",
        "1. data type\n",
        "2. 출력문\n",
        "\n",
        "\n",
        "---\n",
        "\n"
      ]
    },
    {
      "cell_type": "code",
      "metadata": {
        "id": "ij43X6dh4SVs",
        "colab_type": "code",
        "outputId": "8252b0b6-46c0-468d-e050-69c5fc330b18",
        "colab": {
          "base_uri": "https://localhost:8080/",
          "height": 35
        }
      },
      "source": [
        "print('Hello')"
      ],
      "execution_count": 0,
      "outputs": [
        {
          "output_type": "stream",
          "text": [
            "Hello\n"
          ],
          "name": "stdout"
        }
      ]
    },
    {
      "cell_type": "code",
      "metadata": {
        "id": "fsZsKEcu4oCq",
        "colab_type": "code",
        "outputId": "df8f07f5-065a-4f9c-a2cc-a56db83a15a8",
        "colab": {
          "base_uri": "https://localhost:8080/",
          "height": 35
        }
      },
      "source": [
        "name = '샌즈'\n",
        "print(name,'안녕')"
      ],
      "execution_count": 0,
      "outputs": [
        {
          "output_type": "stream",
          "text": [
            "샌즈 안녕\n"
          ],
          "name": "stdout"
        }
      ]
    },
    {
      "cell_type": "code",
      "metadata": {
        "id": "GpeGUDOL5EaZ",
        "colab_type": "code",
        "outputId": "8e8edbbf-262e-44aa-de92-e5946a53efe0",
        "colab": {
          "base_uri": "https://localhost:8080/",
          "height": 89
        }
      },
      "source": [
        "a =10\n",
        "b=6.0\n",
        "print('a/b =',a/b)\n",
        "print('a//b =',a//b)\n",
        "print('a**b =',a**b)\n",
        "print('a%b =',a%b)"
      ],
      "execution_count": 0,
      "outputs": [
        {
          "output_type": "stream",
          "text": [
            "a/b = 1.6666666666666667\n",
            "a//b = 1.0\n",
            "a**b = 1000000.0\n",
            "a%b = 4.0\n"
          ],
          "name": "stdout"
        }
      ]
    },
    {
      "cell_type": "code",
      "metadata": {
        "id": "FlcnsEY15mbM",
        "colab_type": "code",
        "outputId": "51cc615d-1607-44ce-c568-bcc991b298cd",
        "colab": {
          "base_uri": "https://localhost:8080/",
          "height": 35
        }
      },
      "source": [
        "# Date Tpye\n",
        "print(type(a),type(b), type(name))"
      ],
      "execution_count": 0,
      "outputs": [
        {
          "output_type": "stream",
          "text": [
            "<class 'int'> <class 'float'> <class 'str'>\n"
          ],
          "name": "stdout"
        }
      ]
    },
    {
      "cell_type": "code",
      "metadata": {
        "id": "O-W2AHIE6dDU",
        "colab_type": "code",
        "colab": {}
      },
      "source": [
        "a = [1,2,3]\n",
        "b = {'햄버거','치킨'}\n",
        "c = 1,2,3"
      ],
      "execution_count": 0,
      "outputs": []
    },
    {
      "cell_type": "code",
      "metadata": {
        "id": "sFEKxmZe6huO",
        "colab_type": "code",
        "outputId": "2deccb35-3922-41f8-fa40-102e5d3c5da4",
        "colab": {
          "base_uri": "https://localhost:8080/",
          "height": 35
        }
      },
      "source": [
        "type(a), type(b), type(c)"
      ],
      "execution_count": 0,
      "outputs": [
        {
          "output_type": "execute_result",
          "data": {
            "text/plain": [
              "(list, set, tuple)"
            ]
          },
          "metadata": {
            "tags": []
          },
          "execution_count": 35
        }
      ]
    },
    {
      "cell_type": "code",
      "metadata": {
        "id": "ZM0rkN9G8Iz4",
        "colab_type": "code",
        "outputId": "13eabdc6-518c-4dca-dfce-edd7f2a5efb6",
        "colab": {
          "base_uri": "https://localhost:8080/",
          "height": 35
        }
      },
      "source": [
        "a = True\n",
        "b = False\n",
        "a&b, a|b, type(a)"
      ],
      "execution_count": 0,
      "outputs": [
        {
          "output_type": "execute_result",
          "data": {
            "text/plain": [
              "(False, True, bool)"
            ]
          },
          "metadata": {
            "tags": []
          },
          "execution_count": 49
        }
      ]
    },
    {
      "cell_type": "code",
      "metadata": {
        "id": "vUvZoRyh80XZ",
        "colab_type": "code",
        "outputId": "aecd9299-98c2-4a11-fe3c-7b23f381304f",
        "colab": {
          "base_uri": "https://localhost:8080/",
          "height": 35
        }
      },
      "source": [
        "a = [2,4,6,8]\n",
        "len(a),a[-1]"
      ],
      "execution_count": 0,
      "outputs": [
        {
          "output_type": "execute_result",
          "data": {
            "text/plain": [
              "(4, 8)"
            ]
          },
          "metadata": {
            "tags": []
          },
          "execution_count": 57
        }
      ]
    },
    {
      "cell_type": "code",
      "metadata": {
        "id": "bbemIlVE9Hj9",
        "colab_type": "code",
        "outputId": "d45bf38f-1016-45de-f2fa-6219a47b370f",
        "colab": {
          "base_uri": "https://localhost:8080/",
          "height": 35
        }
      },
      "source": [
        "b ='인천정보산업고등학교'\n",
        "len(b)"
      ],
      "execution_count": 0,
      "outputs": [
        {
          "output_type": "execute_result",
          "data": {
            "text/plain": [
              "10"
            ]
          },
          "metadata": {
            "tags": []
          },
          "execution_count": 58
        }
      ]
    }
  ]
}